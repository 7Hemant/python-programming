{
 "cells": [
  {
   "cell_type": "markdown",
   "metadata": {},
   "source": [
    "create a list"
   ]
  },
  {
   "cell_type": "code",
   "execution_count": 1,
   "metadata": {},
   "outputs": [
    {
     "name": "stdout",
     "output_type": "stream",
     "text": [
      "list content: ['iphone', 'mi', 'vivo', 'oneplus', 'oppo']\n"
     ]
    }
   ],
   "source": [
    "listA =['iphone','mi','vivo','oneplus','oppo']\n",
    "print('list content:',listA)"
   ]
  },
  {
   "cell_type": "markdown",
   "metadata": {},
   "source": [
    "creating list with differ items like numbers and strings"
   ]
  },
  {
   "cell_type": "code",
   "execution_count": 2,
   "metadata": {},
   "outputs": [
    {
     "name": "stdout",
     "output_type": "stream",
     "text": [
      "list content: [1, 23, 45, 'name', 'last', 'first']\n"
     ]
    }
   ],
   "source": [
    "listA =[1,23,45,'name','last','first']\n",
    "print('list content:',listA)"
   ]
  },
  {
   "cell_type": "markdown",
   "metadata": {},
   "source": [
    "Traverse list using loop"
   ]
  },
  {
   "cell_type": "code",
   "execution_count": 4,
   "metadata": {},
   "outputs": [
    {
     "name": "stdout",
     "output_type": "stream",
     "text": [
      "all items of the list \n",
      "1\n",
      "23\n",
      "45\n",
      "name\n",
      "last\n",
      "first\n"
     ]
    }
   ],
   "source": [
    "listA =[1,23,45,'name','last','first']\n",
    "print('all items of the list ')\n",
    "for item in listA:\n",
    "    print(item)"
   ]
  },
  {
   "cell_type": "markdown",
   "metadata": {},
   "source": [
    "Removing all items - clear()"
   ]
  },
  {
   "cell_type": "code",
   "execution_count": 5,
   "metadata": {},
   "outputs": [
    {
     "name": "stdout",
     "output_type": "stream",
     "text": [
      "empty list :: []\n"
     ]
    }
   ],
   "source": [
    "listA =[1,23,45,'name','last','first']\n",
    "listA.clear()\n",
    "print('empty list ::',listA)"
   ]
  },
  {
   "cell_type": "markdown",
   "metadata": {},
   "source": [
    "delete List (del keyword), completely delete the list"
   ]
  },
  {
   "cell_type": "code",
   "execution_count": 6,
   "metadata": {},
   "outputs": [
    {
     "name": "stdout",
     "output_type": "stream",
     "text": [
      " deleted list <class 'list'>\n"
     ]
    }
   ],
   "source": [
    "listA =[1,23,45,'name','last','first']\n",
    "del listA\n",
    "print(' deleted list',listA)"
   ]
  },
  {
   "cell_type": "markdown",
   "metadata": {},
   "source": [
    "Copy list item -copy()"
   ]
  },
  {
   "cell_type": "code",
   "execution_count": 7,
   "metadata": {},
   "outputs": [
    {
     "name": "stdout",
     "output_type": "stream",
     "text": [
      "listB [1, 23, 45, 'name', 'last', 'first']\n"
     ]
    }
   ],
   "source": [
    "listA =[1,23,45,'name','last','first']\n",
    "listB =listA.copy()\n",
    "print('listB',listB)"
   ]
  },
  {
   "cell_type": "code",
   "execution_count": 8,
   "metadata": {},
   "outputs": [
    {
     "name": "stdout",
     "output_type": "stream",
     "text": [
      "listB [1, 23, 45, 'name', 'last', 'first']\n"
     ]
    }
   ],
   "source": [
    "listA =[1,23,45,'name','last','first']\n",
    "listB = list(listA)\n",
    "print(\"listB\",listB)"
   ]
  },
  {
   "cell_type": "markdown",
   "metadata": {},
   "source": [
    "Reverse list -revers()"
   ]
  },
  {
   "cell_type": "code",
   "execution_count": 9,
   "metadata": {},
   "outputs": [
    {
     "name": "stdout",
     "output_type": "stream",
     "text": [
      "List ['one', 'two', 'three']\n",
      "reverse list ['three', 'two', 'one']\n"
     ]
    }
   ],
   "source": [
    "listA =[\"one\",\"two\",'three']\n",
    "print('List' ,listA)\n",
    "listA.reverse()\n",
    "print(\"reverse list\",listA)"
   ]
  },
  {
   "cell_type": "markdown",
   "metadata": {},
   "source": [
    "sort list item  -sort()\n",
    "sort()>>sorts the list ascending order (by default)\n",
    "sort(reverse=true) >>sort the list in descending order"
   ]
  },
  {
   "cell_type": "code",
   "execution_count": 18,
   "metadata": {},
   "outputs": [
    {
     "name": "stdout",
     "output_type": "stream",
     "text": [
      "sort ['first', 'green', 'last', 'name']\n",
      "sort(reverse true) ['name', 'last', 'green', 'first']\n"
     ]
    }
   ],
   "source": [
    "listA =['name','first','last',\"green\"]\n",
    "listA.sort()\n",
    "print(\"sort\",listA)\n",
    "listA.sort(reverse=True)\n",
    "print('sort(reverse true)',listA)"
   ]
  },
  {
   "cell_type": "markdown",
   "metadata": {},
   "source": [
    "add item to the end of the list - append(item)"
   ]
  },
  {
   "cell_type": "code",
   "execution_count": 19,
   "metadata": {},
   "outputs": [
    {
     "name": "stdout",
     "output_type": "stream",
     "text": [
      "append ['name', 'first', 'last', 'green', 'yellow']\n"
     ]
    }
   ],
   "source": [
    "listA =['name','first','last',\"green\"]\n",
    "listA.append('yellow')\n",
    "print(\"append\",listA)"
   ]
  },
  {
   "cell_type": "markdown",
   "metadata": {},
   "source": [
    "insert an item at a given position.the first argument is the index of the element before which to insert and second on is value-- insert(index,value)"
   ]
  },
  {
   "cell_type": "code",
   "execution_count": 20,
   "metadata": {},
   "outputs": [
    {
     "name": "stdout",
     "output_type": "stream",
     "text": [
      "after insert ['name', 'first', 'last', 5, 'green']\n"
     ]
    }
   ],
   "source": [
    "listA =['name','first','last',\"green\"]\n",
    "listA.insert(3,5)\n",
    "print(\"after insert\",listA)"
   ]
  }
 ],
 "metadata": {
  "kernelspec": {
   "display_name": "Python 3.9.5 64-bit",
   "language": "python",
   "name": "python3"
  },
  "language_info": {
   "codemirror_mode": {
    "name": "ipython",
    "version": 3
   },
   "file_extension": ".py",
   "mimetype": "text/x-python",
   "name": "python",
   "nbconvert_exporter": "python",
   "pygments_lexer": "ipython3",
   "version": "3.9.5"
  },
  "orig_nbformat": 4,
  "vscode": {
   "interpreter": {
    "hash": "81794d4967e6c3204c66dcd87b604927b115b27c00565d3d43f05ba2f3a2cb0d"
   }
  }
 },
 "nbformat": 4,
 "nbformat_minor": 2
}
